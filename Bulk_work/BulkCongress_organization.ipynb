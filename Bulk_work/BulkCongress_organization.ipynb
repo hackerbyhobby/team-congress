{
 "cells": [
  {
   "cell_type": "code",
   "execution_count": 17,
   "metadata": {},
   "outputs": [],
   "source": [
    "#Importing libraries and dependencies\n",
    "import pandas as pd\n",
    "import requests\n",
    "import numpy as np\n",
    "import hvplot.pandas\n",
    "import matplotlib.pyplot as plt\n",
    "import datetime as dt\n",
    "import json\n",
    "import csv\n",
    "#I dont need all of these, need to comeback \n",
    "# and just scrap the ones i dont need later"
   ]
  },
  {
   "cell_type": "code",
   "execution_count": 28,
   "metadata": {},
   "outputs": [
    {
     "name": "stdout",
     "output_type": "stream",
     "text": [
      "500\n"
     ]
    }
   ],
   "source": [
    "#Setting api headpoint, and headers to accept extra info\n",
    "url = \"https://api.quiverquant.com/beta/bulk/congresstrading\"\n",
    "headers = {\n",
    "    'Accept': \"application/json\",\n",
    "    #Will probably need to change this to have api held in a .env\n",
    "    'Authorization': \"Bearer\"\n",
    "}\n",
    "#Getting the data\n",
    "response = requests.get(url, headers=headers)\n",
    "#Checking if the data was returned\n",
    "if response.status_code == 200:\n",
    "    print('200')\n",
    "    #load json response into the dataframe\n",
    "    df = pd.read_json(response.content.decode(\"utf-8\"))\n",
    "    print(df.head())\n",
    "    print(df.dtypes)\n",
    "else :\n",
    "    print(response.status_code)"
   ]
  },
  {
   "cell_type": "code",
   "execution_count": 29,
   "metadata": {},
   "outputs": [
    {
     "name": "stdout",
     "output_type": "stream",
     "text": [
      "Representative             object\n",
      "BioGuideID                 object\n",
      "TransactionDate    datetime64[ns]\n",
      "Ticker                     object\n",
      "Transaction                object\n",
      "Range                      object\n",
      "House                      object\n",
      "Amount                    float64\n",
      "Party                      object\n",
      "dtype: object\n"
     ]
    }
   ],
   "source": [
    "#Convert the TransactionDate to  datetime\n",
    "df['TransactionDate'] = pd.to_datetime(df['TransactionDate'])\n",
    "print(df.dtypes)"
   ]
  },
  {
   "cell_type": "code",
   "execution_count": 30,
   "metadata": {},
   "outputs": [
    {
     "name": "stdout",
     "output_type": "stream",
     "text": [
      "2019-01-04 00:00:00\n"
     ]
    }
   ],
   "source": [
    "#Check how far back the data goes.\n",
    "def checkOldest() :\n",
    "    oldest_date = df['TransactionDate'].min()\n",
    "    print(oldest_date)\n",
    "checkOldest()"
   ]
  },
  {
   "cell_type": "code",
   "execution_count": 31,
   "metadata": {},
   "outputs": [
    {
     "name": "stdout",
     "output_type": "stream",
     "text": [
      "2019-01-04 00:00:00\n"
     ]
    }
   ],
   "source": [
    "# Filter out any data from before 2018 winners took office\n",
    "inauguration_date =  pd.to_datetime('2019-01-03')\n",
    "df = df.loc[df['TransactionDate']> inauguration_date]\n",
    "#Verify old data was removed\n",
    "checkOldest()\n",
    "# print(df.head())"
   ]
  },
  {
   "cell_type": "code",
   "execution_count": 32,
   "metadata": {},
   "outputs": [
    {
     "ename": "KeyError",
     "evalue": "\"['ReportDate', 'last_modified'] not found in axis\"",
     "output_type": "error",
     "traceback": [
      "\u001b[0;31m---------------------------------------------------------------------------\u001b[0m",
      "\u001b[0;31mKeyError\u001b[0m                                  Traceback (most recent call last)",
      "Cell \u001b[0;32mIn[32], line 2\u001b[0m\n\u001b[1;32m      1\u001b[0m \u001b[38;5;66;03m#Drop columns I don't want\u001b[39;00m\n\u001b[0;32m----> 2\u001b[0m df \u001b[38;5;241m=\u001b[39m \u001b[43mdf\u001b[49m\u001b[38;5;241;43m.\u001b[39;49m\u001b[43mdrop\u001b[49m\u001b[43m(\u001b[49m\u001b[43mcolumns\u001b[49m\u001b[38;5;241;43m=\u001b[39;49m\u001b[43m[\u001b[49m\u001b[38;5;124;43m'\u001b[39;49m\u001b[38;5;124;43mReportDate\u001b[39;49m\u001b[38;5;124;43m'\u001b[39;49m\u001b[43m,\u001b[49m\u001b[43m \u001b[49m\u001b[38;5;124;43m'\u001b[39;49m\u001b[38;5;124;43mlast_modified\u001b[39;49m\u001b[38;5;124;43m'\u001b[39;49m\u001b[43m]\u001b[49m\u001b[43m)\u001b[49m\n\u001b[1;32m      3\u001b[0m \u001b[38;5;66;03m# Checking for ugly dirty data \u001b[39;00m\n\u001b[1;32m      4\u001b[0m \u001b[38;5;28mprint\u001b[39m(df\u001b[38;5;241m.\u001b[39misnull()\u001b[38;5;241m.\u001b[39msum())\n",
      "File \u001b[0;32m/opt/anaconda3/envs/dev/lib/python3.10/site-packages/pandas/core/frame.py:5581\u001b[0m, in \u001b[0;36mDataFrame.drop\u001b[0;34m(self, labels, axis, index, columns, level, inplace, errors)\u001b[0m\n\u001b[1;32m   5433\u001b[0m \u001b[38;5;28;01mdef\u001b[39;00m \u001b[38;5;21mdrop\u001b[39m(\n\u001b[1;32m   5434\u001b[0m     \u001b[38;5;28mself\u001b[39m,\n\u001b[1;32m   5435\u001b[0m     labels: IndexLabel \u001b[38;5;241m|\u001b[39m \u001b[38;5;28;01mNone\u001b[39;00m \u001b[38;5;241m=\u001b[39m \u001b[38;5;28;01mNone\u001b[39;00m,\n\u001b[0;32m   (...)\u001b[0m\n\u001b[1;32m   5442\u001b[0m     errors: IgnoreRaise \u001b[38;5;241m=\u001b[39m \u001b[38;5;124m\"\u001b[39m\u001b[38;5;124mraise\u001b[39m\u001b[38;5;124m\"\u001b[39m,\n\u001b[1;32m   5443\u001b[0m ) \u001b[38;5;241m-\u001b[39m\u001b[38;5;241m>\u001b[39m DataFrame \u001b[38;5;241m|\u001b[39m \u001b[38;5;28;01mNone\u001b[39;00m:\n\u001b[1;32m   5444\u001b[0m \u001b[38;5;250m    \u001b[39m\u001b[38;5;124;03m\"\"\"\u001b[39;00m\n\u001b[1;32m   5445\u001b[0m \u001b[38;5;124;03m    Drop specified labels from rows or columns.\u001b[39;00m\n\u001b[1;32m   5446\u001b[0m \n\u001b[0;32m   (...)\u001b[0m\n\u001b[1;32m   5579\u001b[0m \u001b[38;5;124;03m            weight  1.0     0.8\u001b[39;00m\n\u001b[1;32m   5580\u001b[0m \u001b[38;5;124;03m    \"\"\"\u001b[39;00m\n\u001b[0;32m-> 5581\u001b[0m     \u001b[38;5;28;01mreturn\u001b[39;00m \u001b[38;5;28;43msuper\u001b[39;49m\u001b[43m(\u001b[49m\u001b[43m)\u001b[49m\u001b[38;5;241;43m.\u001b[39;49m\u001b[43mdrop\u001b[49m\u001b[43m(\u001b[49m\n\u001b[1;32m   5582\u001b[0m \u001b[43m        \u001b[49m\u001b[43mlabels\u001b[49m\u001b[38;5;241;43m=\u001b[39;49m\u001b[43mlabels\u001b[49m\u001b[43m,\u001b[49m\n\u001b[1;32m   5583\u001b[0m \u001b[43m        \u001b[49m\u001b[43maxis\u001b[49m\u001b[38;5;241;43m=\u001b[39;49m\u001b[43maxis\u001b[49m\u001b[43m,\u001b[49m\n\u001b[1;32m   5584\u001b[0m \u001b[43m        \u001b[49m\u001b[43mindex\u001b[49m\u001b[38;5;241;43m=\u001b[39;49m\u001b[43mindex\u001b[49m\u001b[43m,\u001b[49m\n\u001b[1;32m   5585\u001b[0m \u001b[43m        \u001b[49m\u001b[43mcolumns\u001b[49m\u001b[38;5;241;43m=\u001b[39;49m\u001b[43mcolumns\u001b[49m\u001b[43m,\u001b[49m\n\u001b[1;32m   5586\u001b[0m \u001b[43m        \u001b[49m\u001b[43mlevel\u001b[49m\u001b[38;5;241;43m=\u001b[39;49m\u001b[43mlevel\u001b[49m\u001b[43m,\u001b[49m\n\u001b[1;32m   5587\u001b[0m \u001b[43m        \u001b[49m\u001b[43minplace\u001b[49m\u001b[38;5;241;43m=\u001b[39;49m\u001b[43minplace\u001b[49m\u001b[43m,\u001b[49m\n\u001b[1;32m   5588\u001b[0m \u001b[43m        \u001b[49m\u001b[43merrors\u001b[49m\u001b[38;5;241;43m=\u001b[39;49m\u001b[43merrors\u001b[49m\u001b[43m,\u001b[49m\n\u001b[1;32m   5589\u001b[0m \u001b[43m    \u001b[49m\u001b[43m)\u001b[49m\n",
      "File \u001b[0;32m/opt/anaconda3/envs/dev/lib/python3.10/site-packages/pandas/core/generic.py:4788\u001b[0m, in \u001b[0;36mNDFrame.drop\u001b[0;34m(self, labels, axis, index, columns, level, inplace, errors)\u001b[0m\n\u001b[1;32m   4786\u001b[0m \u001b[38;5;28;01mfor\u001b[39;00m axis, labels \u001b[38;5;129;01min\u001b[39;00m axes\u001b[38;5;241m.\u001b[39mitems():\n\u001b[1;32m   4787\u001b[0m     \u001b[38;5;28;01mif\u001b[39;00m labels \u001b[38;5;129;01mis\u001b[39;00m \u001b[38;5;129;01mnot\u001b[39;00m \u001b[38;5;28;01mNone\u001b[39;00m:\n\u001b[0;32m-> 4788\u001b[0m         obj \u001b[38;5;241m=\u001b[39m \u001b[43mobj\u001b[49m\u001b[38;5;241;43m.\u001b[39;49m\u001b[43m_drop_axis\u001b[49m\u001b[43m(\u001b[49m\u001b[43mlabels\u001b[49m\u001b[43m,\u001b[49m\u001b[43m \u001b[49m\u001b[43maxis\u001b[49m\u001b[43m,\u001b[49m\u001b[43m \u001b[49m\u001b[43mlevel\u001b[49m\u001b[38;5;241;43m=\u001b[39;49m\u001b[43mlevel\u001b[49m\u001b[43m,\u001b[49m\u001b[43m \u001b[49m\u001b[43merrors\u001b[49m\u001b[38;5;241;43m=\u001b[39;49m\u001b[43merrors\u001b[49m\u001b[43m)\u001b[49m\n\u001b[1;32m   4790\u001b[0m \u001b[38;5;28;01mif\u001b[39;00m inplace:\n\u001b[1;32m   4791\u001b[0m     \u001b[38;5;28mself\u001b[39m\u001b[38;5;241m.\u001b[39m_update_inplace(obj)\n",
      "File \u001b[0;32m/opt/anaconda3/envs/dev/lib/python3.10/site-packages/pandas/core/generic.py:4830\u001b[0m, in \u001b[0;36mNDFrame._drop_axis\u001b[0;34m(self, labels, axis, level, errors, only_slice)\u001b[0m\n\u001b[1;32m   4828\u001b[0m         new_axis \u001b[38;5;241m=\u001b[39m axis\u001b[38;5;241m.\u001b[39mdrop(labels, level\u001b[38;5;241m=\u001b[39mlevel, errors\u001b[38;5;241m=\u001b[39merrors)\n\u001b[1;32m   4829\u001b[0m     \u001b[38;5;28;01melse\u001b[39;00m:\n\u001b[0;32m-> 4830\u001b[0m         new_axis \u001b[38;5;241m=\u001b[39m \u001b[43maxis\u001b[49m\u001b[38;5;241;43m.\u001b[39;49m\u001b[43mdrop\u001b[49m\u001b[43m(\u001b[49m\u001b[43mlabels\u001b[49m\u001b[43m,\u001b[49m\u001b[43m \u001b[49m\u001b[43merrors\u001b[49m\u001b[38;5;241;43m=\u001b[39;49m\u001b[43merrors\u001b[49m\u001b[43m)\u001b[49m\n\u001b[1;32m   4831\u001b[0m     indexer \u001b[38;5;241m=\u001b[39m axis\u001b[38;5;241m.\u001b[39mget_indexer(new_axis)\n\u001b[1;32m   4833\u001b[0m \u001b[38;5;66;03m# Case for non-unique axis\u001b[39;00m\n\u001b[1;32m   4834\u001b[0m \u001b[38;5;28;01melse\u001b[39;00m:\n",
      "File \u001b[0;32m/opt/anaconda3/envs/dev/lib/python3.10/site-packages/pandas/core/indexes/base.py:7070\u001b[0m, in \u001b[0;36mIndex.drop\u001b[0;34m(self, labels, errors)\u001b[0m\n\u001b[1;32m   7068\u001b[0m \u001b[38;5;28;01mif\u001b[39;00m mask\u001b[38;5;241m.\u001b[39many():\n\u001b[1;32m   7069\u001b[0m     \u001b[38;5;28;01mif\u001b[39;00m errors \u001b[38;5;241m!=\u001b[39m \u001b[38;5;124m\"\u001b[39m\u001b[38;5;124mignore\u001b[39m\u001b[38;5;124m\"\u001b[39m:\n\u001b[0;32m-> 7070\u001b[0m         \u001b[38;5;28;01mraise\u001b[39;00m \u001b[38;5;167;01mKeyError\u001b[39;00m(\u001b[38;5;124mf\u001b[39m\u001b[38;5;124m\"\u001b[39m\u001b[38;5;132;01m{\u001b[39;00mlabels[mask]\u001b[38;5;241m.\u001b[39mtolist()\u001b[38;5;132;01m}\u001b[39;00m\u001b[38;5;124m not found in axis\u001b[39m\u001b[38;5;124m\"\u001b[39m)\n\u001b[1;32m   7071\u001b[0m     indexer \u001b[38;5;241m=\u001b[39m indexer[\u001b[38;5;241m~\u001b[39mmask]\n\u001b[1;32m   7072\u001b[0m \u001b[38;5;28;01mreturn\u001b[39;00m \u001b[38;5;28mself\u001b[39m\u001b[38;5;241m.\u001b[39mdelete(indexer)\n",
      "\u001b[0;31mKeyError\u001b[0m: \"['ReportDate', 'last_modified'] not found in axis\""
     ]
    }
   ],
   "source": [
    "#Drop columns I don't want\n",
    "df = df.drop(columns=['ReportDate', 'last_modified'])\n",
    "# Checking for ugly dirty data \n",
    "print(df.isnull().sum())\n",
    "print(df.duplicated().sum())"
   ]
  },
  {
   "cell_type": "code",
   "execution_count": null,
   "metadata": {},
   "outputs": [],
   "source": [
    "#Dropping duplicate rows\n",
    "# df = df.drop_duplicates(keep='first')\n",
    "#I am scared that this will mess with the data,\n",
    "#Like if the same person did the same purchase twice"
   ]
  },
  {
   "cell_type": "code",
   "execution_count": null,
   "metadata": {},
   "outputs": [],
   "source": [
    "#Since plotting will be handled in a diffierent file\n",
    "\n",
    "#We can split data sets here into different dfs for analysis in \n",
    "# other files in a dictionary\n",
    "\n",
    "#I don't really know which dataframes i will need later \n",
    "# so i am just making a bunch"
   ]
  },
  {
   "cell_type": "code",
   "execution_count": null,
   "metadata": {},
   "outputs": [
    {
     "name": "stdout",
     "output_type": "stream",
     "text": [
      "{'Rudy Yakym Iii': 'Y000067', 'Marjorie Taylor Mrs Greene': 'G000596', 'Pete Sessions': 'S000250', 'William R. Keating': 'K000375', 'Max Miller': 'M001222', 'Laurel Lee': 'L000597', 'John James': 'J000307', 'Michael C. Burgess': 'B001248', 'A. Mitchell Jr. McConnell': 'M000355', 'Suzan K. Delbene': 'D000617', 'Josh Gottheimer': 'G000583', 'John Hickenlooper': 'H000273', 'Mark Dr Green': 'G000590', 'Shelley Moore Capito': 'C001047', 'Eleanor Holmes Norton': 'N000147', 'Tommy Tuberville': 'T000278', 'Jonathan Jackson': 'J000309', 'Greg Landsman': 'L000601', 'Markwayne Mullin': 'M001190', 'Virginia Foxx': 'F000450', 'Morgan Mcgarvey': 'M001220', 'Jake Auchincloss': 'A000148', 'Sheldon Whitehouse': 'W000802', 'Lloyd Doggett': 'D000399', 'Earl Blumenauer': 'B000574', 'C. Scott Franklin': 'F000472', 'Richard W. Allen': 'A000372', 'Carol Devine Miller': 'M001205', 'Kathy Manning': 'M001135', 'Debbie Wasserman Schultz': 'W000797', 'James E Hon Banks': 'B001299', 'Susan M. Collins': 'C001035', 'Thomas H. Kean Jr.': 'K000398', 'Maria Elvira Salazar': 'S000168', 'Jerry Moran': 'M000934', 'Nancy Pelosi': 'P000197', 'John Boozman': 'B001236', 'Katie Britt': 'B001319', 'Lance Gooden': 'G000589', 'Earl Leroy Carter': 'C001103', 'Robert E. Latta': 'L000566', 'Jared Moskowitz': 'M001217', 'Gary Peters': 'P000595', 'Kathy Castor': 'C001066', 'Kevin Hern': 'H001082', 'Laurel Mrs Lee': 'L000597', 'Rick Larsen': 'L000560', 'Jamie Raskin': 'R000606', 'Gerald E. Connolly': 'C001078', 'Victoria Spartz': 'S000929', 'Debbie Dingell': 'D000624', 'Abigail Spanberger': 'S001209', 'Stephen F. Lynch': 'L000562', 'Thomas R. Carper': 'C000174', 'Chip Roy': 'R000614', 'Mikie Sherrill': 'S001207', 'Susie Lee': 'L000590', 'Deborah Ross': 'R000305', 'Ted Cruz': 'C001098', 'Mike Kelly': 'K000376', 'Dan Newhouse': 'N000189', 'Tina Smith': 'S001203', 'Shri Thanedar': 'T000488', 'Greg Steube': 'S001214', 'Ron Wyden': 'W000779', 'Angus King': 'K000383', 'Brian Mast': 'M001199', 'Roger Williams': 'W000816', 'Thomas R. Suozzi': 'S001201', 'Katherine M. Clark': 'C001101', 'Daniel Meuser': 'M001204', 'Michael Patrick Guest': 'G000591', 'Steve Cohen': 'C001068', 'James Calhoun': 'J000307', 'Lindsey Graham': 'G000359', 'Dan Sullivan': 'S001198', 'Blake Moore': 'M001213', 'Garret Graves': 'G000577', 'Judy Chu': 'C001080', 'James French Hill': 'H001072', 'Bill Hagerty': 'H000601', 'Dwight Evans': 'E000296', 'Rick Scott': 'S001217', 'John Curtis': 'C001114', 'David Trone': 'T000483', 'HON. GREG STANTON': 'S001211', 'J.D. Vance': 'V000137', 'Robert J. Wittman': 'W000804', 'Stephanie Bice': 'B000740', 'Pete Ricketts': 'R000618', 'Lois Frankel': 'F000462', 'Jeff Duncan': 'D000615', 'Seth Moulton': 'M001196', 'Mark Warner': 'W000805', 'Daniel Goldman': 'G000599', 'David P. Joyce': 'J000295', 'Michael Garcia': 'G000061', 'Zoe Lofgren': 'L000397', 'Mary Gay Scanlon': 'S001205', 'Jennifer Mcclellan': 'M001227', 'Scott Mr Franklin': 'F000472', 'Tammy Duckworth': 'D000622', 'Daniel Crenshaw': 'C001120', 'Thomas H. Kean': 'K000398', 'Michael K. Simpson': 'S001148', 'John Fetterman': 'F000479', 'Austin Scott': 'S001189', 'Jacky Rosen': 'R000608', 'Maria Cantwell': 'C000127', 'Cindy Axne': 'A000378', 'Bob Gibbs': 'G000563', 'James R. Langevin': 'L000559', 'Alan S. Lowenthal': 'L000579', 'Christopher L. Jacobs': 'J000020', 'Robert B. Aderholt': 'A000055', 'John W. Rose': 'R000612', 'Thomas Suozzi': 'S001201', 'Nicholas V. Taylor': 'T000479', 'Brad Sherman': 'S000344', 'Marie Newman': 'N000192', 'Darin Mckay Lahood': 'L000585', 'Ed Perlmutter': 'P000593', 'Patrick Fallon': 'F000246', 'Marcy Kaptur': 'K000009', 'Ron Estes': 'E000298', 'David B. Mckinley': 'M001180', 'Bradley S. Schneider': 'S001190', 'Scott Franklin': 'F000472', 'Thom Tillis': 'T000476', 'Brian Babin': 'B001291', 'Mo Brooks': 'B001274', 'Anthony E. Gonzalez': 'G000588', 'Peter Meijer': 'M001186', 'Deb Fischer': 'F000463', 'Marjorie Taylor Greene': 'G000596', 'Roy Blunt': 'B000575', 'John Thune': 'T000250', 'August Lee Pfluger Ii': 'P000048', 'David Kustoff': 'K000392', 'Joe Courtney': 'C001069', 'John Rutherford': 'R000609', 'Kim Dr Schrier': 'S001216', 'David E. Price': 'P000523', 'Russ Fulcher': 'F000469', 'Donald Sternoff Beyer Jr.': 'B001292', 'Deborah K. Ross': 'R000305', 'John Garamendi': 'G000559', 'Andrew Garbarino': 'G000597', 'David Cheston Rouzer': 'R000603', 'Robert C. \"Bobby\" Scott': 'S000185', 'Lori Trahan': 'T000482', 'Bill Pascrell Jr.': 'P000096', 'Raúl M. Grijalva': 'G000551', 'Aston Donald Mceachin': 'M001200', 'Adam B. Schiff': 'S001150', 'Donald Sternoff  Beyer Jr': 'B001292', 'Peter Welch': 'W000800', 'Larry Bucshon': 'B001275', 'Felix Barry Moore': 'M001212', 'John A. Yarmuth': 'Y000062', 'Pat Toomey': 'T000461', 'David Madison Cawthorn': 'C001104', 'Kenneth R. Buck': 'B001297', 'Cynthia Lummis': 'L000571', 'Frank Pallone Jr.': 'P000034', 'Dean Phillips': 'P000616', 'Sara Jacobs': 'J000305', 'Ed Case': 'C001055', 'Tom Malinowski': 'M001203', 'Elaine Luria': 'L000591', 'Ashley Hinson Arenholz': 'H001091', 'Michael John Gallagher': 'G000579', 'Mr. Peter Meijer': 'M001186', 'Mr. Scott Franklin': 'F000472', 'Mrs. Marjorie Taylor Greene': 'G000596', 'Greg Murphy': 'M001210', 'Teresa Leger Fernandez': 'L000273', 'James M. Inhofe': 'I000024', 'Gilbert Cisneros': 'C001123', 'Donald Sternoff Beyer Jr': 'B001292', 'Pat Roberts': 'R000307', 'Patrick Toomey': 'T000461', 'Greg Gianforte': 'G000584', 'John B. Larson': 'L000557', 'James Comer': 'C001108', 'K. Michael Conaway': 'C001062', 'Mark Green': 'G000590', 'Hakeem S. Jeffries': 'J000294', 'James E. Banks': 'B001299', 'Joseph D. Morelle': 'M001206', 'Patrick T. Mchenry': 'M001156', 'W. Greg Steube': 'S001214', 'Bill Cassidy': 'C001075', 'Susan A. Davis': 'D000598', 'Peter J. Visclosky': 'V000108', 'Lloyd K. Smucker': 'S001199', 'Kelly Loeffler': 'L000594', 'Warren Davidson': 'D000626', 'Roger W. Marshall': 'M001198', 'Brian Higgins': 'H001038', 'Scott H. Peters': 'P000608', 'Adam Kinzinger': 'K000378', 'Thomas Massie': 'M001184', 'William R. Timmons Iv': 'T000480', 'Sean Patrick Maloney': 'M001185', 'Donna Shalala': 'S001206', 'Roger Wicker': 'W000437', 'David Perdue': 'P000612', 'Susan W. Brooks': 'B001284', 'Cheri Bustos': 'B001286', \"Tom O'Halleran\": 'O000171', 'Tom Rice': 'R000597', 'Justin Amash': 'A000367', 'Nicholas Van Taylor': 'T000479', 'Kim Schrier': 'S001216', 'Harley E. Rouda Jr.': 'R000616', 'Tim Burchett': 'B001309', 'John Hoeven': 'H001061', 'Thomas Macarthur': 'M001193', 'Bill Flores': 'F000461', 'Matt Gaetz': 'G000578', 'Brenda Lulenar Lawrence': 'L000581', 'Bryan George Steil': 'S001213', 'Elizabeth Fletcher': 'F000468', 'Grace Meng': 'M001188', 'Theodore E. Deutch': 'D000610', 'Chris Coons': 'C001088', 'Tim Kaine': 'K000384', 'John F. Reed': 'R000122', 'Rob Woodall': 'W000810'}\n"
     ]
    },
    {
     "data": {
      "text/html": [
       "<div>\n",
       "<style scoped>\n",
       "    .dataframe tbody tr th:only-of-type {\n",
       "        vertical-align: middle;\n",
       "    }\n",
       "\n",
       "    .dataframe tbody tr th {\n",
       "        vertical-align: top;\n",
       "    }\n",
       "\n",
       "    .dataframe thead th {\n",
       "        text-align: right;\n",
       "    }\n",
       "</style>\n",
       "<table border=\"1\" class=\"dataframe\">\n",
       "  <thead>\n",
       "    <tr style=\"text-align: right;\">\n",
       "      <th></th>\n",
       "      <th>BioGuideID</th>\n",
       "      <th>TransactionDate</th>\n",
       "      <th>Ticker</th>\n",
       "      <th>Transaction</th>\n",
       "      <th>Range</th>\n",
       "      <th>House</th>\n",
       "      <th>Amount</th>\n",
       "      <th>Party</th>\n",
       "    </tr>\n",
       "  </thead>\n",
       "  <tbody>\n",
       "    <tr>\n",
       "      <th>0</th>\n",
       "      <td>Y000067</td>\n",
       "      <td>2024-09-26</td>\n",
       "      <td>MATURE</td>\n",
       "      <td>Purchase</td>\n",
       "      <td>$1,001 - $15,000</td>\n",
       "      <td>Representatives</td>\n",
       "      <td>1001.0</td>\n",
       "      <td>R</td>\n",
       "    </tr>\n",
       "    <tr>\n",
       "      <th>1</th>\n",
       "      <td>G000596</td>\n",
       "      <td>2024-09-20</td>\n",
       "      <td>GOOG</td>\n",
       "      <td>Purchase</td>\n",
       "      <td>$1,001 - $15,000</td>\n",
       "      <td>Representatives</td>\n",
       "      <td>1001.0</td>\n",
       "      <td>R</td>\n",
       "    </tr>\n",
       "    <tr>\n",
       "      <th>2</th>\n",
       "      <td>G000596</td>\n",
       "      <td>2024-09-20</td>\n",
       "      <td>CRWD</td>\n",
       "      <td>Purchase</td>\n",
       "      <td>$1,001 - $15,000</td>\n",
       "      <td>Representatives</td>\n",
       "      <td>1001.0</td>\n",
       "      <td>R</td>\n",
       "    </tr>\n",
       "    <tr>\n",
       "      <th>3</th>\n",
       "      <td>G000596</td>\n",
       "      <td>2024-09-20</td>\n",
       "      <td>BX</td>\n",
       "      <td>Purchase</td>\n",
       "      <td>$1,001 - $15,000</td>\n",
       "      <td>Representatives</td>\n",
       "      <td>1001.0</td>\n",
       "      <td>R</td>\n",
       "    </tr>\n",
       "    <tr>\n",
       "      <th>4</th>\n",
       "      <td>G000596</td>\n",
       "      <td>2024-09-20</td>\n",
       "      <td>LRCX</td>\n",
       "      <td>Purchase</td>\n",
       "      <td>$1,001 - $15,000</td>\n",
       "      <td>Representatives</td>\n",
       "      <td>1001.0</td>\n",
       "      <td>R</td>\n",
       "    </tr>\n",
       "    <tr>\n",
       "      <th>...</th>\n",
       "      <td>...</td>\n",
       "      <td>...</td>\n",
       "      <td>...</td>\n",
       "      <td>...</td>\n",
       "      <td>...</td>\n",
       "      <td>...</td>\n",
       "      <td>...</td>\n",
       "      <td>...</td>\n",
       "    </tr>\n",
       "    <tr>\n",
       "      <th>27846</th>\n",
       "      <td>P000616</td>\n",
       "      <td>2019-01-04</td>\n",
       "      <td>WFC</td>\n",
       "      <td>Sale</td>\n",
       "      <td>$15,001 - $50,000</td>\n",
       "      <td>Representatives</td>\n",
       "      <td>15001.0</td>\n",
       "      <td>D</td>\n",
       "    </tr>\n",
       "    <tr>\n",
       "      <th>27847</th>\n",
       "      <td>T000479</td>\n",
       "      <td>2019-01-04</td>\n",
       "      <td>PYPL</td>\n",
       "      <td>Purchase</td>\n",
       "      <td>$1,001 - $15,000</td>\n",
       "      <td>Representatives</td>\n",
       "      <td>1001.0</td>\n",
       "      <td>R</td>\n",
       "    </tr>\n",
       "    <tr>\n",
       "      <th>27848</th>\n",
       "      <td>P000616</td>\n",
       "      <td>2019-01-04</td>\n",
       "      <td>BLK</td>\n",
       "      <td>Purchase</td>\n",
       "      <td>$1,001 - $15,000</td>\n",
       "      <td>Representatives</td>\n",
       "      <td>1001.0</td>\n",
       "      <td>D</td>\n",
       "    </tr>\n",
       "    <tr>\n",
       "      <th>27849</th>\n",
       "      <td>P000616</td>\n",
       "      <td>2019-01-04</td>\n",
       "      <td>M</td>\n",
       "      <td>Purchase</td>\n",
       "      <td>$1,001 - $15,000</td>\n",
       "      <td>Representatives</td>\n",
       "      <td>1001.0</td>\n",
       "      <td>D</td>\n",
       "    </tr>\n",
       "    <tr>\n",
       "      <th>27850</th>\n",
       "      <td>P000616</td>\n",
       "      <td>2019-01-04</td>\n",
       "      <td>UNH</td>\n",
       "      <td>Sale</td>\n",
       "      <td>$1,001 - $15,000</td>\n",
       "      <td>Representatives</td>\n",
       "      <td>1001.0</td>\n",
       "      <td>D</td>\n",
       "    </tr>\n",
       "  </tbody>\n",
       "</table>\n",
       "<p>27851 rows × 8 columns</p>\n",
       "</div>"
      ],
      "text/plain": [
       "      BioGuideID TransactionDate  Ticker Transaction              Range  \\\n",
       "0        Y000067      2024-09-26  MATURE    Purchase   $1,001 - $15,000   \n",
       "1        G000596      2024-09-20    GOOG    Purchase   $1,001 - $15,000   \n",
       "2        G000596      2024-09-20    CRWD    Purchase   $1,001 - $15,000   \n",
       "3        G000596      2024-09-20      BX    Purchase   $1,001 - $15,000   \n",
       "4        G000596      2024-09-20    LRCX    Purchase   $1,001 - $15,000   \n",
       "...          ...             ...     ...         ...                ...   \n",
       "27846    P000616      2019-01-04     WFC        Sale  $15,001 - $50,000   \n",
       "27847    T000479      2019-01-04    PYPL    Purchase   $1,001 - $15,000   \n",
       "27848    P000616      2019-01-04     BLK    Purchase   $1,001 - $15,000   \n",
       "27849    P000616      2019-01-04       M    Purchase   $1,001 - $15,000   \n",
       "27850    P000616      2019-01-04     UNH        Sale   $1,001 - $15,000   \n",
       "\n",
       "                 House   Amount Party  \n",
       "0      Representatives   1001.0     R  \n",
       "1      Representatives   1001.0     R  \n",
       "2      Representatives   1001.0     R  \n",
       "3      Representatives   1001.0     R  \n",
       "4      Representatives   1001.0     R  \n",
       "...                ...      ...   ...  \n",
       "27846  Representatives  15001.0     D  \n",
       "27847  Representatives   1001.0     R  \n",
       "27848  Representatives   1001.0     D  \n",
       "27849  Representatives   1001.0     D  \n",
       "27850  Representatives   1001.0     D  \n",
       "\n",
       "[27851 rows x 8 columns]"
      ]
     },
     "execution_count": 25,
     "metadata": {},
     "output_type": "execute_result"
    }
   ],
   "source": [
    "#Dictionary with id as key and name as value\n",
    "#Later we can track most active ids, \n",
    "# and find most active names as a result\n",
    "rep_to_id_dict = df[['Representative', 'BioGuideID']].set_index('Representative')['BioGuideID'].to_dict()\n",
    "df = df.reset_index(drop=True)\n",
    "\n",
    "#Turns out jupyter hates sharing dicitonaries across files\n",
    "#Doing it through json\n",
    "with open('rep_to_id.json', 'w') as f:\n",
    "    json.dump(rep_to_id_dict, f)\n",
    "    \n",
    "#Making sure it worked\n",
    "print(rep_to_id_dict)\n",
    "\n",
    "#I'm pretty sure I can just drop representative name now\n",
    "#When i need to check names, i can compare it against this dict\n",
    "df.drop(columns=['Representative'])\n",
    "\n",
    "#Remember to create a function that checks representative name\n",
    "#In my head, this makes df smaller and therefor easier to  work with"
   ]
  },
  {
   "cell_type": "code",
   "execution_count": null,
   "metadata": {},
   "outputs": [],
   "source": [
    "#Now that I started this I don't think this part is necesarry...\n",
    "#But i am keeping it here if i later realize that it is necesarry..."
   ]
  },
  {
   "cell_type": "code",
   "execution_count": null,
   "metadata": {},
   "outputs": [],
   "source": [
    "#In the meantime... export that goodness to a csv\n",
    "df.to_csv('bulk_output.csv', index=False)"
   ]
  }
 ],
 "metadata": {
  "kernelspec": {
   "display_name": "Python 3 (ipykernel)",
   "language": "python",
   "name": "python3"
  },
  "language_info": {
   "codemirror_mode": {
    "name": "ipython",
    "version": 3
   },
   "file_extension": ".py",
   "mimetype": "text/x-python",
   "name": "python",
   "nbconvert_exporter": "python",
   "pygments_lexer": "ipython3",
   "version": "3.10.14"
  }
 },
 "nbformat": 4,
 "nbformat_minor": 2
}
