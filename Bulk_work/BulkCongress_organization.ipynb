{
 "cells": [
  {
   "cell_type": "code",
   "execution_count": 21,
   "metadata": {},
   "outputs": [
    {
     "name": "stdout",
     "output_type": "stream",
     "text": [
      "os.getcwd(): /Users/hbh/LocalDocs/Training/ASU/Activity Files\n",
      "API Key type <class 'str'>\n"
     ]
    }
   ],
   "source": [
    "#Importing libraries and dependencies\n",
    "import pandas as pd\n",
    "import requests\n",
    "import numpy as np\n",
    "import hvplot.pandas\n",
    "import matplotlib.pyplot as plt\n",
    "import datetime as dt\n",
    "import json\n",
    "import csv\n",
    "#I dont need all of these, need to comeback \n",
    "# and just scrap the ones i dont need later\n",
    "\n",
    "\n",
    "# Import dotenv package for setting environment variables \n",
    "from dotenv import load_dotenv, find_dotenv\n",
    "\n",
    "# Import os package\n",
    "import os\n",
    "\n",
    "print(f'os.getcwd(): {os.getcwd()}')\n",
    "\n",
    "# Set environment variables from the .env in the local environment\n",
    "load_dotenv(find_dotenv('keys.env'))\n",
    "\n",
    "# Retrieve API key and store as Python variable.\n",
    "# Store your key in keys.env file and name it QuiverQuant_Bearer\n",
    "api_key = os.getenv(\"QuiverQuant_Bearer\")\n",
    "\n",
    "print(f'API Key type {type(api_key)}')"
   ]
  },
  {
   "cell_type": "code",